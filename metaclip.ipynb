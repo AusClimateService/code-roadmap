{
 "cells": [
  {
   "cell_type": "code",
   "execution_count": 1,
   "id": "7ae6f02a",
   "metadata": {},
   "outputs": [],
   "source": [
    "import rdflib"
   ]
  },
  {
   "cell_type": "code",
   "execution_count": 2,
   "id": "46012e75",
   "metadata": {},
   "outputs": [],
   "source": [
    "graph = rdflib.Graph()"
   ]
  },
  {
   "cell_type": "code",
   "execution_count": 4,
   "id": "5f3f4e14",
   "metadata": {},
   "outputs": [],
   "source": [
    "# RDF URI nodes to use as subjects\n",
    "accesscm2_historical = rdflib.URIRef('https://doi.org/10.22033/ESGF/CMIP6.4271')"
   ]
  },
  {
   "cell_type": "code",
   "execution_count": 5,
   "id": "e0112e0e",
   "metadata": {},
   "outputs": [],
   "source": [
    "# Define aspects of the METACLIP namespace\n",
    "MultiDecadalSimulation = rdflib.URIRef('http://www.metaclip.org/datasource/datasource.owl#MultiDecadalSimulation')\n",
    "hadModellingCenter = rdflib.URIRef('http://www.metaclip.org/datasource/datasource.owl#hadModellingCenter')"
   ]
  },
  {
   "cell_type": "code",
   "execution_count": 7,
   "id": "d1206229",
   "metadata": {},
   "outputs": [],
   "source": [
    "graph.add( (accesscm2_historical, rdflib.RDF.type, MultiDecadalSimulation) )\n",
    "graph.add( (accesscm2_historical, hadModellingCenter, rdflib.Literal('CSIRO-ARCCSS')) )"
   ]
  },
  {
   "cell_type": "code",
   "execution_count": 11,
   "id": "a8c5f30e",
   "metadata": {},
   "outputs": [
    {
     "data": {
      "text/plain": [
       "['_Graph__get_identifier',\n",
       " '_Graph__get_store',\n",
       " '_Graph__identifier',\n",
       " '_Graph__namespace_manager',\n",
       " '_Graph__store',\n",
       " '__add__',\n",
       " '__and__',\n",
       " '__class__',\n",
       " '__cmp__',\n",
       " '__contains__',\n",
       " '__delattr__',\n",
       " '__dict__',\n",
       " '__dir__',\n",
       " '__doc__',\n",
       " '__eq__',\n",
       " '__format__',\n",
       " '__ge__',\n",
       " '__getattribute__',\n",
       " '__getitem__',\n",
       " '__gt__',\n",
       " '__hash__',\n",
       " '__iadd__',\n",
       " '__init__',\n",
       " '__init_subclass__',\n",
       " '__isub__',\n",
       " '__iter__',\n",
       " '__le__',\n",
       " '__len__',\n",
       " '__lt__',\n",
       " '__module__',\n",
       " '__mul__',\n",
       " '__ne__',\n",
       " '__new__',\n",
       " '__or__',\n",
       " '__reduce__',\n",
       " '__reduce_ex__',\n",
       " '__repr__',\n",
       " '__setattr__',\n",
       " '__sizeof__',\n",
       " '__slots__',\n",
       " '__str__',\n",
       " '__sub__',\n",
       " '__subclasshook__',\n",
       " '__weakref__',\n",
       " '__xor__',\n",
       " '_get_namespace_manager',\n",
       " '_process_skolem_tuples',\n",
       " '_set_namespace_manager',\n",
       " 'absolutize',\n",
       " 'add',\n",
       " 'addN',\n",
       " 'all_nodes',\n",
       " 'base',\n",
       " 'bind',\n",
       " 'close',\n",
       " 'collection',\n",
       " 'comment',\n",
       " 'commit',\n",
       " 'compute_qname',\n",
       " 'connected',\n",
       " 'context_aware',\n",
       " 'de_skolemize',\n",
       " 'default_union',\n",
       " 'destroy',\n",
       " 'formula_aware',\n",
       " 'identifier',\n",
       " 'isomorphic',\n",
       " 'items',\n",
       " 'label',\n",
       " 'load',\n",
       " 'n3',\n",
       " 'namespace_manager',\n",
       " 'namespaces',\n",
       " 'objects',\n",
       " 'open',\n",
       " 'parse',\n",
       " 'predicate_objects',\n",
       " 'predicates',\n",
       " 'preferredLabel',\n",
       " 'qname',\n",
       " 'query',\n",
       " 'remove',\n",
       " 'resource',\n",
       " 'rollback',\n",
       " 'seq',\n",
       " 'serialize',\n",
       " 'set',\n",
       " 'skolemize',\n",
       " 'store',\n",
       " 'subject_objects',\n",
       " 'subject_predicates',\n",
       " 'subjects',\n",
       " 'toPython',\n",
       " 'transitiveClosure',\n",
       " 'transitive_objects',\n",
       " 'transitive_subjects',\n",
       " 'triples',\n",
       " 'triples_choices',\n",
       " 'update',\n",
       " 'value']"
      ]
     },
     "execution_count": 11,
     "metadata": {},
     "output_type": "execute_result"
    }
   ],
   "source": [
    "dir(graph)"
   ]
  },
  {
   "cell_type": "code",
   "execution_count": null,
   "id": "fc1c566e",
   "metadata": {},
   "outputs": [],
   "source": []
  }
 ],
 "metadata": {
  "kernelspec": {
   "display_name": "Python 3",
   "language": "python",
   "name": "python3"
  },
  "language_info": {
   "codemirror_mode": {
    "name": "ipython",
    "version": 3
   },
   "file_extension": ".py",
   "mimetype": "text/x-python",
   "name": "python",
   "nbconvert_exporter": "python",
   "pygments_lexer": "ipython3",
   "version": "3.9.4"
  }
 },
 "nbformat": 4,
 "nbformat_minor": 5
}
