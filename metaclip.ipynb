{
 "cells": [
  {
   "cell_type": "code",
   "execution_count": 11,
   "id": "7ae6f02a",
   "metadata": {},
   "outputs": [],
   "source": [
    "import rdflib"
   ]
  },
  {
   "cell_type": "code",
   "execution_count": 12,
   "id": "b41dca81",
   "metadata": {},
   "outputs": [],
   "source": [
    "graph = rdflib.Graph()"
   ]
  },
  {
   "cell_type": "code",
   "execution_count": 13,
   "id": "a4858a94",
   "metadata": {},
   "outputs": [],
   "source": [
    "# RDF URI nodes to use as subjects\n",
    "accesscm2_historical = rdflib.URIRef('https://doi.org/10.22033/ESGF/CMIP6.4271')"
   ]
  },
  {
   "cell_type": "code",
   "execution_count": 14,
   "id": "73acce0d",
   "metadata": {},
   "outputs": [],
   "source": [
    "# Define the METACLIP namespace\n",
    "ds = rdflib.Namespace('http://www.metaclip.org/datasource/datasource.owl#')\n",
    "graph.namespace_manager.bind('ds', ds)"
   ]
  },
  {
   "cell_type": "code",
   "execution_count": 15,
   "id": "1e36bbc8",
   "metadata": {},
   "outputs": [
    {
     "data": {
      "text/plain": [
       "'ds:MultiDecadalSimulation'"
      ]
     },
     "execution_count": 15,
     "metadata": {},
     "output_type": "execute_result"
    }
   ],
   "source": [
    "ds.MultiDecadalSimulation.n3(graph.namespace_manager)"
   ]
  },
  {
   "cell_type": "code",
   "execution_count": 16,
   "id": "8deddc72",
   "metadata": {},
   "outputs": [],
   "source": [
    "graph.add( (accesscm2_historical, rdflib.RDF.type, ds.MultiDecadalSimulation) )\n",
    "graph.add( (accesscm2_historical, ds.hadModellingCenter, rdflib.Literal('CSIRO-ARCCSS')) )\n",
    "graph.add( (accesscm2_historical, rdflib.RDFS.label, rdflib.Literal('ACCESS-CM2')) )"
   ]
  },
  {
   "cell_type": "code",
   "execution_count": 17,
   "id": "9a0fe614",
   "metadata": {},
   "outputs": [
    {
     "name": "stdout",
     "output_type": "stream",
     "text": [
      "[\n",
      "    {\n",
      "        \"@id\": \"https://doi.org/10.22033/ESGF/CMIP6.4271\",\n",
      "        \"@type\": [\n",
      "            \"http://www.metaclip.org/datasource/datasource.owl#MultiDecadalSimulation\"\n",
      "        ],\n",
      "        \"http://www.metaclip.org/datasource/datasource.owl#hadModellingCenter\": [\n",
      "            {\n",
      "                \"@value\": \"CSIRO-ARCCSS\"\n",
      "            }\n",
      "        ],\n",
      "        \"http://www.w3.org/2000/01/rdf-schema#label\": [\n",
      "            {\n",
      "                \"@value\": \"ACCESS-CM2\"\n",
      "            }\n",
      "        ]\n",
      "    }\n",
      "]\n"
     ]
    }
   ],
   "source": [
    "print(graph.serialize(format='json-ld', indent=4).decode())"
   ]
  },
  {
   "cell_type": "code",
   "execution_count": 20,
   "id": "4e11266f",
   "metadata": {},
   "outputs": [
    {
     "name": "stdout",
     "output_type": "stream",
     "text": [
      "<?xml version=\"1.0\" encoding=\"UTF-8\"?>\n",
      "<rdf:RDF\n",
      "   xmlns:ds=\"http://www.metaclip.org/datasource/datasource.owl#\"\n",
      "   xmlns:rdf=\"http://www.w3.org/1999/02/22-rdf-syntax-ns#\"\n",
      "   xmlns:rdfs=\"http://www.w3.org/2000/01/rdf-schema#\"\n",
      ">\n",
      "  <rdf:Description rdf:about=\"https://doi.org/10.22033/ESGF/CMIP6.4271\">\n",
      "    <rdfs:label>ACCESS-CM2</rdfs:label>\n",
      "    <rdf:type rdf:resource=\"http://www.metaclip.org/datasource/datasource.owl#MultiDecadalSimulation\"/>\n",
      "    <ds:hadModellingCenter>CSIRO-ARCCSS</ds:hadModellingCenter>\n",
      "  </rdf:Description>\n",
      "</rdf:RDF>\n",
      "\n"
     ]
    }
   ],
   "source": [
    "print(graph.serialize().decode())"
   ]
  },
  {
   "cell_type": "code",
   "execution_count": 18,
   "id": "91465449",
   "metadata": {},
   "outputs": [],
   "source": [
    "#output = graph.serialize(format='json-ld', indent=4)\n",
    "#with open('test.json', 'a+') as f:\n",
    "#    f.write(str(output))\n",
    "#f.close()"
   ]
  },
  {
   "cell_type": "code",
   "execution_count": null,
   "id": "8360bff3",
   "metadata": {},
   "outputs": [],
   "source": []
  }
 ],
 "metadata": {
  "kernelspec": {
   "display_name": "Python 3",
   "language": "python",
   "name": "python3"
  },
  "language_info": {
   "codemirror_mode": {
    "name": "ipython",
    "version": 3
   },
   "file_extension": ".py",
   "mimetype": "text/x-python",
   "name": "python",
   "nbconvert_exporter": "python",
   "pygments_lexer": "ipython3",
   "version": "3.9.4"
  }
 },
 "nbformat": 4,
 "nbformat_minor": 5
}
