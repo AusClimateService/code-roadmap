{
 "cells": [
  {
   "cell_type": "markdown",
   "id": "22c72042",
   "metadata": {},
   "source": [
    "## Overview\n",
    "\n",
    "In recent years, there has been growing interest in using the \n",
    "the [Provenance Data Model](https://www.w3.org/TR/prov-primer/) (PROV) from the World Wide Web Consortium (W3C)\n",
    "to capture the provenance of climate data products.\n",
    "It defines a core data model (PROV-DM) for building representations of the entities, people and processes\n",
    "involved in producing a piece of data or thing in the world,\n",
    "along with corresponding serialisations (e.g., PROV-JSON, PROV-XML, PROV-O).\n",
    "\n",
    "The [`prov`](https://prov.readthedocs.io/en/latest/) Python library supports\n",
    "PROV-O, PROV-XML, PROV-JSON import/export.\n",
    "There's a good [tutorial](https://nbviewer.jupyter.org/github/trungdong/notebooks/blob/master/PROV%20Tutorial.ipynb)\n",
    "on how to use it.\n",
    "\n",
    "A PROV document consists of *agents*, *activities* and *entities* that are all connected by *relations*.\n",
    "In order to label these things, various URIs and namespaces are used.\n",
    "For example, the [`rook`](https://rook-wps.readthedocs.io/en/latest/index.html) package (which allows remote access to climate data)\n",
    "[describes in detail](https://rook-wps.readthedocs.io/en/latest/prov.html) how they decide on labels.\n",
    "[ESMValTool](https://docs.esmvaltool.org/en/latest/community/diagnostic.html#recording-provenance)\n",
    "also outputs PROV-XML files.\n",
    "\n",
    "## Definitions\n",
    "\n",
    "- An *entity* is a physical, digital, conceptual, or other kind of thing with some fixed aspects; entities may be real or imaginary.\n",
    "- An *activity* is something that occurs over a period of time and acts upon or with entities; it may include consuming, processing, transforming, modifying, relocating, using, or generating entities.\n",
    "- An *agent* is something that bears some form of responsibility for an activity taking place, for the existence of an entity, or for another agent’s activity.\n",
    "- A *Uniform Resource Identifier (URI)* is a unique sequence of characters that identifies a logical or physical resource used by web technologies. URIs may be used to identify anything, including real-world objects, such as people and places, concepts, or information resources such as web pages and books.\n",
    "\n",
    "## Notes\n",
    "\n",
    "- Here's a Python library that allows you to use decorators to get functions to log provenance info when they are called: https://github.com/bmabey/provenance/issues/59\n",
    "- There's a place to store PROV files: https://openprovenance.org/store/ \n"
   ]
  },
  {
   "cell_type": "code",
   "execution_count": 1,
   "id": "3afdc666",
   "metadata": {},
   "outputs": [],
   "source": [
    "from prov.model import ProvDocument\n",
    "from prov.dot import prov_to_dot\n",
    "from IPython.display import Image"
   ]
  },
  {
   "cell_type": "code",
   "execution_count": 2,
   "id": "41e08a3d",
   "metadata": {},
   "outputs": [],
   "source": [
    "provdoc = ProvDocument()"
   ]
  },
  {
   "cell_type": "code",
   "execution_count": 3,
   "id": "0ed59bfa",
   "metadata": {},
   "outputs": [
    {
     "data": {
      "text/plain": [
       "<Namespace: dcterms {http://purl.org/dc/terms/}>"
      ]
     },
     "execution_count": 3,
     "metadata": {},
     "output_type": "execute_result"
    }
   ],
   "source": [
    "provdoc.add_namespace(\"prov\", uri=\"http://www.w3.org/ns/prov#\")\n",
    "provdoc.add_namespace(\"provone\", uri=\"http://purl.dataone.org/provone/2015/01/15/ontology#\")\n",
    "provdoc.add_namespace(\"dcterms\", uri=\"http://purl.org/dc/terms/\")"
   ]
  },
  {
   "cell_type": "code",
   "execution_count": 4,
   "id": "8367116b",
   "metadata": {},
   "outputs": [
    {
     "data": {
      "text/plain": [
       "<Namespace: nci {https://nci.org.au/}>"
      ]
     },
     "execution_count": 4,
     "metadata": {},
     "output_type": "execute_result"
    }
   ],
   "source": [
    "provdoc.add_namespace(\"esgf\", \"https://esgf.llnl.gov/\")\n",
    "provdoc.add_namespace(\"csiro\", \"https://www.csiro.au\")\n",
    "provdoc.add_namespace(\"acs\", \"https://www.acs.gov.au/\")\n",
    "provdoc.add_namespace(\"nci\", \"https://nci.org.au/\")"
   ]
  },
  {
   "cell_type": "code",
   "execution_count": 5,
   "id": "1b69fb53",
   "metadata": {},
   "outputs": [],
   "source": [
    "data = provdoc.entity('esgf:pr_Amon_ACCESS-CM2_historical_r1i1p1f1_gn_201001-201412.nc')"
   ]
  },
  {
   "cell_type": "code",
   "execution_count": 6,
   "id": "59cb7f64",
   "metadata": {},
   "outputs": [],
   "source": [
    "figure = provdoc.entity('acs:demo.png')"
   ]
  },
  {
   "cell_type": "code",
   "execution_count": 7,
   "id": "33c9c36f",
   "metadata": {},
   "outputs": [
    {
     "data": {
      "text/plain": [
       "<ProvAgent: acs:code>"
      ]
     },
     "execution_count": 7,
     "metadata": {},
     "output_type": "execute_result"
    }
   ],
   "source": [
    "provdoc.agent(\"acs:code\", {\"prov:type\": \"prov:SoftwareAgent\",\n",
    "                           \"dcterms:source\": \"https://github.com/ClimResAus/code-roadmap\"})"
   ]
  },
  {
   "cell_type": "code",
   "execution_count": 8,
   "id": "ecc847dd",
   "metadata": {},
   "outputs": [
    {
     "data": {
      "text/plain": [
       "<ProvAgent: csiro:damien>"
      ]
     },
     "execution_count": 8,
     "metadata": {},
     "output_type": "execute_result"
    }
   ],
   "source": [
    "provdoc.agent('csiro:damien')"
   ]
  },
  {
   "cell_type": "code",
   "execution_count": 9,
   "id": "abf9a6ad",
   "metadata": {},
   "outputs": [
    {
     "data": {
      "text/plain": [
       "<ProvAttribution: (acs:code, csiro:damien)>"
      ]
     },
     "execution_count": 9,
     "metadata": {},
     "output_type": "execute_result"
    }
   ],
   "source": [
    "provdoc.wasAttributedTo('acs:code', 'csiro:damien')"
   ]
  },
  {
   "cell_type": "code",
   "execution_count": 10,
   "id": "5d6f24c9",
   "metadata": {},
   "outputs": [
    {
     "data": {
      "text/plain": [
       "<ProvActivity: nci:processData1>"
      ]
     },
     "execution_count": 10,
     "metadata": {},
     "output_type": "execute_result"
    }
   ],
   "source": [
    "provdoc.activity('nci:processData1')"
   ]
  },
  {
   "cell_type": "code",
   "execution_count": 11,
   "id": "82a3d0f0",
   "metadata": {},
   "outputs": [
    {
     "data": {
      "text/plain": [
       "<ProvActivity: nci:processData2>"
      ]
     },
     "execution_count": 11,
     "metadata": {},
     "output_type": "execute_result"
    }
   ],
   "source": [
    "provdoc.activity('nci:processData2')"
   ]
  },
  {
   "cell_type": "code",
   "execution_count": 12,
   "id": "586b3365",
   "metadata": {},
   "outputs": [
    {
     "data": {
      "text/plain": [
       "<ProvGeneration: (acs:demo.png, nci:processData2)>"
      ]
     },
     "execution_count": 12,
     "metadata": {},
     "output_type": "execute_result"
    }
   ],
   "source": [
    "provdoc.used('nci:processData1', 'esgf:pr_Amon_ACCESS-CM2_historical_r1i1p1f1_gn_201001-201412.nc')\n",
    "provdoc.wasInformedBy('nci:processData2', 'nci:processData1')\n",
    "provdoc.wasGeneratedBy('acs:demo.png', 'nci:processData2')"
   ]
  },
  {
   "cell_type": "code",
   "execution_count": 13,
   "id": "0763e277",
   "metadata": {},
   "outputs": [
    {
     "data": {
      "text/plain": [
       "<ProvAssociation: (nci:processData2, acs:code)>"
      ]
     },
     "execution_count": 13,
     "metadata": {},
     "output_type": "execute_result"
    }
   ],
   "source": [
    "provdoc.wasAssociatedWith('nci:processData1', 'acs:code')\n",
    "provdoc.wasAssociatedWith('nci:processData2', 'acs:code')"
   ]
  },
  {
   "cell_type": "code",
   "execution_count": 14,
   "id": "43271943",
   "metadata": {},
   "outputs": [
    {
     "name": "stdout",
     "output_type": "stream",
     "text": [
      "document\n",
      "  prefix provone <http://purl.dataone.org/provone/2015/01/15/ontology#>\n",
      "  prefix dcterms <http://purl.org/dc/terms/>\n",
      "  prefix esgf <https://esgf.llnl.gov/>\n",
      "  prefix csiro <https://www.csiro.au>\n",
      "  prefix acs <https://www.acs.gov.au/>\n",
      "  prefix nci <https://nci.org.au/>\n",
      "  \n",
      "  entity(esgf:pr_Amon_ACCESS-CM2_historical_r1i1p1f1_gn_201001-201412.nc)\n",
      "  entity(acs:demo.png)\n",
      "  agent(acs:code, [prov:type=\"prov:SoftwareAgent\", dcterms:source=\"https://github.com/ClimResAus/code-roadmap\"])\n",
      "  agent(csiro:damien)\n",
      "  wasAttributedTo(acs:code, csiro:damien)\n",
      "  activity(nci:processData1, -, -)\n",
      "  activity(nci:processData2, -, -)\n",
      "  used(nci:processData1, esgf:pr_Amon_ACCESS-CM2_historical_r1i1p1f1_gn_201001-201412.nc, -)\n",
      "  wasInformedBy(nci:processData2, nci:processData1)\n",
      "  wasGeneratedBy(acs:demo.png, nci:processData2, -)\n",
      "  wasAssociatedWith(nci:processData1, acs:code, -)\n",
      "  wasAssociatedWith(nci:processData2, acs:code, -)\n",
      "endDocument\n"
     ]
    }
   ],
   "source": [
    "print(provdoc.get_provn())"
   ]
  },
  {
   "cell_type": "code",
   "execution_count": 15,
   "id": "41f4bcf9",
   "metadata": {},
   "outputs": [],
   "source": [
    "dot = prov_to_dot(provdoc)\n",
    "dot.write_png('article-prov.png')"
   ]
  },
  {
   "cell_type": "code",
   "execution_count": 16,
   "id": "1ff227f9",
   "metadata": {},
   "outputs": [
    {
     "data": {
      "image/png": "[encoded data removed]",
      "text/plain": [
       "<IPython.core.display.Image object>"
      ]
     },
     "execution_count": 16,
     "metadata": {},
     "output_type": "execute_result"
    }
   ],
   "source": [
    "Image('article-prov.png')"
   ]
  },
  {
   "cell_type": "code",
   "execution_count": 17,
   "id": "2f166f75",
   "metadata": {},
   "outputs": [
    {
     "name": "stdout",
     "output_type": "stream",
     "text": [
      "{\n",
      "  \"prefix\": {\n",
      "    \"provone\": \"http://purl.dataone.org/provone/2015/01/15/ontology#\",\n",
      "    \"dcterms\": \"http://purl.org/dc/terms/\",\n",
      "    \"esgf\": \"https://esgf.llnl.gov/\",\n",
      "    \"csiro\": \"https://www.csiro.au\",\n",
      "    \"acs\": \"https://www.acs.gov.au/\",\n",
      "    \"nci\": \"https://nci.org.au/\"\n",
      "  },\n",
      "  \"entity\": {\n",
      "    \"esgf:pr_Amon_ACCESS-CM2_historical_r1i1p1f1_gn_201001-201412.nc\": {},\n",
      "    \"acs:demo.png\": {}\n",
      "  },\n",
      "  \"agent\": {\n",
      "    \"acs:code\": {\n",
      "      \"prov:type\": \"prov:SoftwareAgent\",\n",
      "      \"dcterms:source\": \"https://github.com/ClimResAus/code-roadmap\"\n",
      "    },\n",
      "    \"csiro:damien\": {}\n",
      "  },\n",
      "  \"wasAttributedTo\": {\n",
      "    \"_:id1\": {\n",
      "      \"prov:entity\": \"acs:code\",\n",
      "      \"prov:agent\": \"csiro:damien\"\n",
      "    }\n",
      "  },\n",
      "  \"activity\": {\n",
      "    \"nci:processData1\": {},\n",
      "    \"nci:processData2\": {}\n",
      "  },\n",
      "  \"used\": {\n",
      "    \"_:id2\": {\n",
      "      \"prov:activity\": \"nci:processData1\",\n",
      "      \"prov:entity\": \"esgf:pr_Amon_ACCESS-CM2_historical_r1i1p1f1_gn_201001-201412.nc\"\n",
      "    }\n",
      "  },\n",
      "  \"wasInformedBy\": {\n",
      "    \"_:id3\": {\n",
      "      \"prov:informed\": \"nci:processData2\",\n",
      "      \"prov:informant\": \"nci:processData1\"\n",
      "    }\n",
      "  },\n",
      "  \"wasGeneratedBy\": {\n",
      "    \"_:id4\": {\n",
      "      \"prov:entity\": \"acs:demo.png\",\n",
      "      \"prov:activity\": \"nci:processData2\"\n",
      "    }\n",
      "  },\n",
      "  \"wasAssociatedWith\": {\n",
      "    \"_:id5\": {\n",
      "      \"prov:activity\": \"nci:processData1\",\n",
      "      \"prov:agent\": \"acs:code\"\n",
      "    },\n",
      "    \"_:id6\": {\n",
      "      \"prov:activity\": \"nci:processData2\",\n",
      "      \"prov:agent\": \"acs:code\"\n",
      "    }\n",
      "  }\n",
      "}\n"
     ]
    }
   ],
   "source": [
    "print(provdoc.serialize(indent=2))\n",
    "#provdoc.serialize('article-prov.json')"
   ]
  },
  {
   "cell_type": "code",
   "execution_count": 17,
   "id": "dc58fbfe",
   "metadata": {},
   "outputs": [
    {
     "data": {
      "text/plain": [
       "['__class__',\n",
       " '__delattr__',\n",
       " '__dict__',\n",
       " '__dir__',\n",
       " '__doc__',\n",
       " '__eq__',\n",
       " '__format__',\n",
       " '__ge__',\n",
       " '__getattribute__',\n",
       " '__gt__',\n",
       " '__hash__',\n",
       " '__init__',\n",
       " '__init_subclass__',\n",
       " '__le__',\n",
       " '__lt__',\n",
       " '__module__',\n",
       " '__ne__',\n",
       " '__new__',\n",
       " '__reduce__',\n",
       " '__reduce_ex__',\n",
       " '__repr__',\n",
       " '__setattr__',\n",
       " '__sizeof__',\n",
       " '__str__',\n",
       " '__subclasshook__',\n",
       " '__weakref__',\n",
       " '_add_record',\n",
       " '_bundles',\n",
       " '_document',\n",
       " '_id_map',\n",
       " '_identifier',\n",
       " '_namespaces',\n",
       " '_records',\n",
       " '_unified_records',\n",
       " 'actedOnBehalfOf',\n",
       " 'activity',\n",
       " 'add_bundle',\n",
       " 'add_namespace',\n",
       " 'add_record',\n",
       " 'agent',\n",
       " 'alternate',\n",
       " 'alternateOf',\n",
       " 'association',\n",
       " 'attribution',\n",
       " 'bundle',\n",
       " 'bundles',\n",
       " 'collection',\n",
       " 'communication',\n",
       " 'default_ns_uri',\n",
       " 'delegation',\n",
       " 'derivation',\n",
       " 'deserialize',\n",
       " 'document',\n",
       " 'end',\n",
       " 'entity',\n",
       " 'flattened',\n",
       " 'generation',\n",
       " 'get_default_namespace',\n",
       " 'get_provn',\n",
       " 'get_record',\n",
       " 'get_records',\n",
       " 'get_registered_namespaces',\n",
       " 'hadMember',\n",
       " 'hadPrimarySource',\n",
       " 'has_bundles',\n",
       " 'identifier',\n",
       " 'influence',\n",
       " 'invalidation',\n",
       " 'is_bundle',\n",
       " 'is_document',\n",
       " 'membership',\n",
       " 'mention',\n",
       " 'mentionOf',\n",
       " 'namespaces',\n",
       " 'new_record',\n",
       " 'plot',\n",
       " 'primary_source',\n",
       " 'quotation',\n",
       " 'records',\n",
       " 'revision',\n",
       " 'serialize',\n",
       " 'set_default_namespace',\n",
       " 'specialization',\n",
       " 'specializationOf',\n",
       " 'start',\n",
       " 'unified',\n",
       " 'update',\n",
       " 'usage',\n",
       " 'used',\n",
       " 'valid_qualified_name',\n",
       " 'wasAssociatedWith',\n",
       " 'wasAttributedTo',\n",
       " 'wasDerivedFrom',\n",
       " 'wasEndedBy',\n",
       " 'wasGeneratedBy',\n",
       " 'wasInfluencedBy',\n",
       " 'wasInformedBy',\n",
       " 'wasInvalidatedBy',\n",
       " 'wasQuotedFrom',\n",
       " 'wasRevisionOf',\n",
       " 'wasStartedBy']"
      ]
     },
     "execution_count": 17,
     "metadata": {},
     "output_type": "execute_result"
    }
   ],
   "source": [
    "dir(provdoc)"
   ]
  },
  {
   "cell_type": "code",
   "execution_count": null,
   "id": "81cda3d0",
   "metadata": {},
   "outputs": [],
   "source": []
  }
 ],
 "metadata": {
  "kernelspec": {
   "display_name": "Python 3",
   "language": "python",
   "name": "python3"
  },
  "language_info": {
   "codemirror_mode": {
    "name": "ipython",
    "version": 3
   },
   "file_extension": ".py",
   "mimetype": "text/x-python",
   "name": "python",
   "nbconvert_exporter": "python",
   "pygments_lexer": "ipython3",
   "version": "3.9.4"
  }
 },
 "nbformat": 4,
 "nbformat_minor": 5
}
